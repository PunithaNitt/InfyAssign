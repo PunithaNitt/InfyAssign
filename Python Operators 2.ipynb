{
 "cells": [
  {
   "cell_type": "markdown",
   "metadata": {},
   "source": [
    "# Group 37\n",
    "\n",
    "## LE 157\n",
    "## LE 158\n",
    "## LE 159\n",
    "## LE 160\n",
    "## LE 161"
   ]
  },
  {
   "cell_type": "markdown",
   "metadata": {},
   "source": [
    "# PYTHON OPERATORS \n",
    "* Operators are the constructs which can manipulate the value of operands.\n",
    "* Consider the expression 4 + 5 = 9. Here, 4 and 5 are called operands and + is called operator.\n",
    "\n",
    "## Types of Operators:\n",
    "1.  Arithmetic Operators\n",
    "2.  Comparison (Relational) Operators\n",
    "3.  Assignment Operators\n",
    "4.  Logical Operators\n",
    "5.  Bitwise Operators\n",
    "6.  Membership Operators\n",
    "7.  Identity Operators "
   ]
  },
  {
   "cell_type": "markdown",
   "metadata": {},
   "source": [
    "## Arithmetic operators:\n",
    "They are used to perform mathematical operations like addition, subtraction, multiplication etc.\n",
    "  \n",
    "    Operator        Description                                     Example with valaues: a=10,b=20 \n",
    "    _______________________________________________________________________________________________\n",
    "\t\t\n",
    "       + \t    Adds values on either side of the operator\t                a + b = 30\n",
    "       -         Subtracts right hand operand from left hand operand\t       a – b = -10\n",
    "       * \t    Multiplies values on either side of the operator\t          a * b = 200\n",
    "       / \t    Divides left hand operand by right hand operand\t           b / a = 2\n",
    "       % \t    Divides left hand operand by right hand operand and           b % a = 0\n",
    "                  returns remainder\t\n",
    "       **        Exponent Performs exponential  (power)  calculation           a**b =10 to the power 20\n",
    "                  on operators\t\n",
    "       //\t    Floor Division - The division of operands where the           5//2=2\n",
    "                  result is the quotient in which the digits after the \n",
    "                  decimal point are removed\t\n"
   ]
  },
  {
   "cell_type": "markdown",
   "metadata": {},
   "source": [
    "### Example 1\n",
    "You can copy the code and test it by yourself\n",
    "\n",
    "Create a new cell below and copy the code\n",
    "\n",
    "x = 5\n",
    "y = 3\n",
    "\n",
    "print(x + y)\n",
    "print(x - y)\n",
    "print(x * y)\n",
    "print(x / y)\n",
    "print(x % y)\n",
    "print(x ** y)\n",
    "print(x // y)\n",
    "\n",
    "output\n",
    "8\n",
    "2\n",
    "15\n",
    "1.66666\n",
    "2\n",
    "125\n",
    "1"
   ]
  },
  {
   "cell_type": "markdown",
   "metadata": {},
   "source": [
    "### Example 2\n",
    "\n",
    "a = float(input('Enter first side: '))  \n",
    "b = float(input('Enter second side: '))  \n",
    "c = float(input('Enter third side: '))  \n",
    "  \n",
    "\\# calculate the semi-perimeter  \n",
    "s = (a + b + c) / 2  \n",
    "  \n",
    "\\# calculate the area  \n",
    "area = (s*(s-a)*(s-b)*(s-c)) ** 0.5  \n",
    "print('The area of the triangle is %0.2f' %area)  "
   ]
  },
  {
   "cell_type": "markdown",
   "metadata": {},
   "source": [
    "### Exercise\n",
    "Find the roots of the quadratic equation\n"
   ]
  },
  {
   "cell_type": "code",
   "execution_count": 28,
   "metadata": {},
   "outputs": [],
   "source": [
    "# Write code here"
   ]
  },
  {
   "cell_type": "markdown",
   "metadata": {},
   "source": [
    "## Assignment Operators:\n",
    "\n",
    "\n",
    "Assignment operators are used in Python to assign values to variables\n",
    "\n",
    "       Operator       Description\t                                       Example   \n",
    "      ____________________________________________________________________________________\n",
    "   \n",
    "        =\t        Assigns values from right side operands            c = a + b assigns\n",
    "                    to left side operand\t                            value of a + b into c\n",
    "        +=          Add AND: It adds right operand to the left          c += a is equivalent\n",
    "                    operand and\tassign the result to left operand    to c = c + a\n",
    "        -=          Subtract AND: It subtracts right operand from       c -= a is equivalent\n",
    "                    the left operand and assign the result to left      to c = c - a\n",
    "                    operand\t\n"
   ]
  },
  {
   "cell_type": "markdown",
   "metadata": {},
   "source": [
    "#### Example\n",
    "\n",
    "s = 10\n",
    "a = 5\n",
    "\n",
    "s += a\n",
    "\n",
    "s-=12\n",
    "\n",
    "print(s)\n",
    "\n",
    "Output: \n",
    "\n",
    "15\n",
    "\n",
    "3\n"
   ]
  },
  {
   "cell_type": "markdown",
   "metadata": {},
   "source": [
    "#### Try out\n",
    "\n",
    "v = 4\n",
    "w = 5\n",
    "x = 8\n",
    "y = 2\n",
    "z = 100\n",
    "\n",
    "Find z = z + (v+w) * x / y;   \n"
   ]
  },
  {
   "cell_type": "code",
   "execution_count": 29,
   "metadata": {},
   "outputs": [],
   "source": [
    "# Write code here"
   ]
  },
  {
   "cell_type": "markdown",
   "metadata": {},
   "source": [
    "## Relational (Comparison) Operators:\n",
    "* Comparison operators are used to compare values\n",
    "* It either returns True or False according to the condition\n",
    "\n",
    "         Operator                Description   \t                 Example a=10,b=20\n",
    "         ____________________________________________________________________________\n",
    " \n",
    "\t\t\n",
    "            ==\t      If the values of two operands are equal,       (a == b) is not true.\n",
    "                        then the condition becomes true\t\n",
    "            !=\t      If values of two operands are not equal,       (a!=b) is true\n",
    "                        then condition becomes true\t\n",
    "            >\t      If the value of left operand is greater         (a > b) is not true\n",
    "                        than the value of right operand, then \n",
    "                        condition becomes true\n",
    "            <\t      If the value of left operand is less than       (a < b) is true\n",
    "                        the value of right operand, then condition \n",
    "                        becomes true\t\n",
    "            >=\t      If the value of left operand is greater        (a >= b) is not true\n",
    "                        than or equal to the value of right operand, \n",
    "                        then condition becomes true\t\n",
    "            <=\t      If the value of left operand is less than      (a  <= b) is true\n",
    "                        or equal to the value of right operand, \n",
    "                        then condition becomes true\t\n"
   ]
  },
  {
   "cell_type": "markdown",
   "metadata": {},
   "source": [
    "### Example\n",
    "You can copy the code and test it by yourself\n",
    "\n",
    "x = 5\n",
    "y = 3\n",
    "\n",
    "print(x == y)\n",
    "print(x != y)\n",
    "print(x > y)\n",
    "print(x < y)\n",
    "print(x >= y)\n",
    "print(x <= y)\n",
    "\n",
    "output\n",
    "\n",
    "False\n",
    "True\n",
    "True\n",
    "False\n",
    "True\n",
    "False"
   ]
  },
  {
   "cell_type": "markdown",
   "metadata": {},
   "source": [
    "### Try out \n",
    "x = 5\n",
    "Find True or False for \n",
    "* x > 3 and x < 10\n",
    "* x > 3 or x < 4\n",
    "* not(x > 3 and x < 10)\n"
   ]
  },
  {
   "cell_type": "markdown",
   "metadata": {},
   "source": [
    "## Logical Operators:\n",
    "Logical operators are and, or, not operators\n",
    "\n",
    "    Operator                Description    \t   Example a=10,b=20 \n",
    "    ___________________________________________________________________\n",
    "\t\t\n",
    "    and\t            True if both the operands are true            a and y                     \n",
    "    or\t             True if either of the operand is true         a or y                     \n",
    "    not\t            True if operand is false                      not x                     \n",
    "                       (complements the operand)  "
   ]
  },
  {
   "cell_type": "markdown",
   "metadata": {},
   "source": [
    "### Execise\n",
    " Assume variable a holds 10 and variable b holds 20 then\n",
    " Find True or False for\n",
    " * a and b\n",
    " * a or b\n",
    " * not (a and b)\n",
    " * not (not(a and b) and b)"
   ]
  },
  {
   "cell_type": "code",
   "execution_count": 30,
   "metadata": {},
   "outputs": [],
   "source": [
    "# write code here"
   ]
  },
  {
   "cell_type": "markdown",
   "metadata": {},
   "source": [
    "## Bitwise Operators:\n",
    "Let   x = 10 (0000 1010 in binary) \n",
    "\n",
    "    y = 4 (0000 0100 in binary)\n",
    "\n",
    "    Operator         Description   \t   Example a=10,b=20 \n",
    "    _______________________________________________________\n",
    "\t\t\n",
    "    &\t            Bitwise AND           x & y = 0 (0000 0000)\n",
    "    |\t            Bitwise OR            x | y = 14 (0000 1110)\n",
    "    ~\t            Bitwise NOT           ~ x = -11 (1111 0101)\n",
    "    ^\t            Bitwise XOR           x ^ y = 14 (0000 1110)\n",
    "    >>\t           itwise right shift     >> 2 = 2 (0000 0010)\n",
    "    <<\t           itwise left shift      << 2 = 40 (0010 1000)"
   ]
  },
  {
   "cell_type": "markdown",
   "metadata": {},
   "source": [
    "### Example\n",
    "You can copy the code and test it by yourself\n",
    "\n",
    "\n",
    "x=[5,3,6,4,1]\n",
    "\n",
    "\\>> 5 in x\n",
    "\n",
    "True\n",
    "\n",
    "\\>> 5 not in x\n",
    "\n",
    "False"
   ]
  },
  {
   "cell_type": "markdown",
   "metadata": {},
   "source": [
    "### Can you find the below:\n",
    "\n",
    "a = 5 = 0000 0101\n",
    "b = -10 = 1111 0110\n",
    "\n",
    "Find \n",
    "* a | b\n",
    "* a ^ b\n",
    "* a<<2\n",
    "* a<<1\n",
    "* b<<3\n",
    "* ~a\n"
   ]
  },
  {
   "cell_type": "code",
   "execution_count": 31,
   "metadata": {},
   "outputs": [],
   "source": [
    "# write code here"
   ]
  },
  {
   "cell_type": "markdown",
   "metadata": {},
   "source": [
    "### Identity Operators:\n",
    "They are used to check if two values (or variables) are located on the same part of the memory\n",
    "\n",
    "is    :    True if the opreands are identical \n",
    "Example: x is True\n",
    "\n",
    "is not  :    Treu if the opreands are not identical (do not refer to the same object)\n",
    "Example: x is not True\n"
   ]
  },
  {
   "cell_type": "markdown",
   "metadata": {},
   "source": [
    "### Example\n",
    "You can copy the code and test it by yourself\n",
    "\n",
    "x = [\"apple\", \"banana\"]\n",
    "y = [\"apple\", \"banana\"]\n",
    "z = x\n",
    "\n",
    "print(x is z)\n",
    "print(x is y)\n",
    "print(x == y)\n",
    "\n",
    "Output:\n",
    "True\n",
    "False\n",
    "True"
   ]
  },
  {
   "cell_type": "markdown",
   "metadata": {},
   "source": [
    "#### Excercise:\n",
    "x is assigned with \"apple\" and \"banana\"\n",
    "y is assigned with \"apple\" and \"banana\"\n",
    "z = x\n",
    "\n",
    "Find if \n",
    "* x is not z\n",
    "* x is not y\n",
    "* x != y"
   ]
  },
  {
   "cell_type": "code",
   "execution_count": 32,
   "metadata": {},
   "outputs": [],
   "source": [
    "# write code here"
   ]
  },
  {
   "cell_type": "markdown",
   "metadata": {},
   "source": [
    "## It is the time to evaluate our learning ability \n",
    "### Task 1 : Assignments\n",
    "### Task 2: Quiz"
   ]
  },
  {
   "cell_type": "markdown",
   "metadata": {},
   "source": [
    "### Assignment 1\n",
    "Find whether a number N is equal to the sum of its proper positive divisors\n",
    "\n",
    "Write a program to determine whether a number N is equal to the sum of its proper positive divisors \n",
    "(excluding the number itself).\n",
    "\n",
    "**Input format**\n",
    "\n",
    "First line: T (number of test cases)\n",
    "For each test case\n",
    "First line: N\n",
    "Output format\n",
    "Print YES, if N is equal to the sum of its proper positive divisors else print NO.\n",
    "\n",
    "**Constraints**\n",
    "\n",
    "1≤T≤100\n",
    "1≤N≤109\n",
    "\n",
    "**Sample Input**\n",
    "\n",
    "3\n",
    "\n",
    "6\n",
    "\n",
    "5\n",
    "\n",
    "28\n",
    "\n",
    "**Sample Output**\n",
    "YES\n",
    "\n",
    "NO\n",
    "\n",
    "YES"
   ]
  },
  {
   "cell_type": "code",
   "execution_count": 33,
   "metadata": {},
   "outputs": [],
   "source": [
    "# Assignment 1\n",
    "# Type your code here"
   ]
  },
  {
   "cell_type": "markdown",
   "metadata": {},
   "source": [
    "### Assignment 2\n",
    "\n",
    "How to reverse a String without changing the positions of special characters\n",
    "Constrain String reverse \n",
    "\n",
    "**Problem**\n",
    "\n",
    "Reverse the given input string without changing the positions of the special characters in python.\n",
    "\n",
    "**Input Format**\n",
    "\n",
    "First-line consist of a string with special characters\n",
    "\n",
    "**Constraints**\n",
    "\n",
    "No Constraints\n",
    "\n",
    "**Output Format**\n",
    "\n",
    "First-line consists of reverse of the string without changing the positions of special characters.\n",
    "\n",
    "**Sample Input 1**\n",
    "\n",
    "     abcd@12#ef$k\n",
    "\n",
    "**Sample Output 1**\n",
    "\n",
    "     kfe2@1d#cb$a\n",
    "\n",
    "**Sample Input 2**\n",
    "\n",
    "     qw#r$e@7#ghj\n",
    "\n",
    "**Sample Output 2**\n",
    "\n",
    "     jh#g$7@e#rwq"
   ]
  },
  {
   "cell_type": "code",
   "execution_count": 34,
   "metadata": {},
   "outputs": [],
   "source": [
    "# Assignment 2\n",
    "# Write your code here"
   ]
  },
  {
   "cell_type": "markdown",
   "metadata": {},
   "source": [
    "### Simple Quiz"
   ]
  },
  {
   "cell_type": "markdown",
   "metadata": {},
   "source": [
    "[Take your Quiz](https://docs.google.com/document/d/14zWW67Zzzzx7DDuLMsG4cDMQupJLhyrWIszdxvtOsa4/edit?usp=sharing \"this is quiz in google doc\")"
   ]
  },
  {
   "cell_type": "markdown",
   "metadata": {},
   "source": [
    "## Additional Learning Material\n",
    "\n",
    "### Online Material\n",
    "\n",
    "https://www.py4e.com/materials\n",
    "\n",
    "https://www.guru99.com/python-operators-complete-tutorial.html\n",
    "\n",
    "https://www.geeksforgeeks.org/python-programming-language/\n",
    "\n",
    "\n",
    "### Video Tutorial:\n",
    "\n",
    "https://www.youtube.com/watch?v=bRnm8f6Wavk&feature=emb_logo\n",
    "\n",
    "https://www.youtube.com/watch?list=PLC8825D0450647509&v=tKTZoB2Vjuk&feature=emb_logo\n",
    "\n",
    "https://www.youtube.com/watch?v=QXeEoD0pB3E&list=PLsyeobzWxl7poL9JTVyndKe62ieoN-MZ3"
   ]
  },
  {
   "cell_type": "markdown",
   "metadata": {},
   "source": [
    "## Reference:\n",
    "\n",
    "1. python-pocket-reference-python-in-your-pocket-pocket-reference-oreilly, Mark Lutz\n",
    "\n",
    "2. python-cookbook-third-edition, David Beazley,Oreilly\n",
    "\n",
    "3. python-essential-reference-4th-edition, David Beazley\n",
    "\n",
    "4. modern-python-cookbook, Steven F. Lott\n"
   ]
  }
 ],
 "metadata": {
  "kernelspec": {
   "display_name": "Python 3",
   "language": "python",
   "name": "python3"
  },
  "language_info": {
   "codemirror_mode": {
    "name": "ipython",
    "version": 3
   },
   "file_extension": ".py",
   "mimetype": "text/x-python",
   "name": "python",
   "nbconvert_exporter": "python",
   "pygments_lexer": "ipython3",
   "version": "3.6.5"
  }
 },
 "nbformat": 4,
 "nbformat_minor": 2
}
